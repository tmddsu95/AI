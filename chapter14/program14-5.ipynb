{
 "cells": [
  {
   "cell_type": "code",
   "execution_count": 1,
   "metadata": {},
   "outputs": [],
   "source": [
    "import gensim"
   ]
  },
  {
   "cell_type": "code",
   "execution_count": 2,
   "metadata": {},
   "outputs": [],
   "source": [
    "import os"
   ]
  },
  {
   "cell_type": "code",
   "execution_count": 8,
   "metadata": {},
   "outputs": [],
   "source": [
    "model = gensim.models.KeyedVectors.load_word2vec_format(os.path.join(\\\n",
    "    os.path.dirname(\"__file__\"),'GoogleNews-vectors-negative300.bin'),binary = True)"
   ]
  },
  {
   "cell_type": "code",
   "execution_count": 18,
   "metadata": {},
   "outputs": [
    {
     "name": "stdout",
     "output_type": "stream",
     "text": [
      "Similar words to dog\n",
      "[('dogs', 0.8680490255355835), ('puppy', 0.8106428384780884), ('pit_bull', 0.780396044254303), ('pooch', 0.7627376317977905), ('cat', 0.7609457969665527), ('golden_retriever', 0.7500901818275452), ('German_shepherd', 0.7465174198150635), ('Rottweiler', 0.7437615394592285), ('beagle', 0.7418621778488159), ('pup', 0.7406911253929138)]\n",
      "\n",
      "woman - king = ? - man(Euclidean distance)\n",
      "[('queen', 0.7118192911148071), ('monarch', 0.6189674139022827), ('princess', 0.5902431607246399), ('crown_prince', 0.5499460697174072), ('prince', 0.5377321243286133), ('kings', 0.5236844420433044), ('Queen_Consort', 0.5235945582389832), ('queens', 0.5181134343147278), ('sultan', 0.5098593235015869), ('monarchy', 0.5087411999702454)]\n",
      "\n",
      "woman - king = ? - man(Cosine distance)\n",
      "[('queen', 0.9314123392105103), ('monarch', 0.858533501625061), ('princess', 0.8476566076278687), ('Queen_Consort', 0.8150269985198975), ('queens', 0.8099815249443054), ('crown_prince', 0.8089975714683533), ('royal_palace', 0.8027306795120239), ('monarchy', 0.801961362361908), ('prince', 0.800979733467102), ('empress', 0.7958387136459351)]\n",
      "\n",
      "Which does not match together in (breakfast cereal dinner lunch)?\n",
      "cereal\n",
      "\n",
      "Similarity between woman and man\n",
      "0.76640123\n",
      "\n",
      "Similarity between girl and boy\n",
      "0.8543272\n"
     ]
    }
   ],
   "source": [
    "print('Similar words to dog')\n",
    "print(model.most_similar('dog'))\n",
    "print('\\nwoman - king = ? - man(Euclidean distance)')\n",
    "print(model.most_similar(positive=['woman','king'],negative = ['man']))\n",
    "print('\\nwoman - king = ? - man(Cosine distance)')\n",
    "print(model.most_similar_cosmul(positive=['woman','king'],negative = ['man']))\n",
    "print('\\nWhich does not match together in (breakfast cereal dinner lunch)?')\n",
    "print(model.doesnt_match(\"breakfast cereal dinner lunch\".split()))\n",
    "print('\\nSimilarity between woman and man')\n",
    "print(model.similarity('woman','man'))\n",
    "print('\\nSimilarity between girl and boy')\n",
    "print(model.similarity('girl','boy'))"
   ]
  },
  {
   "cell_type": "code",
   "execution_count": 19,
   "metadata": {
    "scrolled": false
   },
   "outputs": [
    {
     "name": "stdout",
     "output_type": "stream",
     "text": [
      "Similar words to dog\n",
      "[('dogs', 0.8680490255355835), ('puppy', 0.8106428384780884), ('pit_bull', 0.780396044254303), ('pooch', 0.7627376317977905), ('cat', 0.7609457969665527), ('golden_retriever', 0.7500901818275452), ('German_shepherd', 0.7465174198150635), ('Rottweiler', 0.7437615394592285), ('beagle', 0.7418621778488159), ('pup', 0.7406911253929138)]\n"
     ]
    }
   ],
   "source": [
    "print('Similar words to dog')\n",
    "print(model.most_similar('dog'))"
   ]
  },
  {
   "cell_type": "code",
   "execution_count": 20,
   "metadata": {},
   "outputs": [
    {
     "name": "stdout",
     "output_type": "stream",
     "text": [
      "\n",
      "woman - king = ? - man(Euclidean distance)\n",
      "[('queen', 0.7118192911148071), ('monarch', 0.6189674139022827), ('princess', 0.5902431607246399), ('crown_prince', 0.5499460697174072), ('prince', 0.5377321243286133), ('kings', 0.5236844420433044), ('Queen_Consort', 0.5235945582389832), ('queens', 0.5181134343147278), ('sultan', 0.5098593235015869), ('monarchy', 0.5087411999702454)]\n",
      "\n",
      "woman - king = ? - man(Cosine distance)\n",
      "[('queen', 0.9314123392105103), ('monarch', 0.858533501625061), ('princess', 0.8476566076278687), ('Queen_Consort', 0.8150269985198975), ('queens', 0.8099815249443054), ('crown_prince', 0.8089975714683533), ('royal_palace', 0.8027306795120239), ('monarchy', 0.801961362361908), ('prince', 0.800979733467102), ('empress', 0.7958387136459351)]\n"
     ]
    }
   ],
   "source": [
    "print('\\nwoman - king = ? - man(Euclidean distance)')\n",
    "print(model.most_similar(positive=['woman','king'],negative = ['man']))\n",
    "print('\\nwoman - king = ? - man(Cosine distance)')\n",
    "print(model.most_similar_cosmul(positive=['woman','king'],negative = ['man']))"
   ]
  },
  {
   "cell_type": "code",
   "execution_count": 21,
   "metadata": {},
   "outputs": [
    {
     "name": "stdout",
     "output_type": "stream",
     "text": [
      "\n",
      "Which does not match together in (breakfast cereal dinner lunch)?\n",
      "cereal\n"
     ]
    }
   ],
   "source": [
    "print('\\nWhich does not match together in (breakfast cereal dinner lunch)?')\n",
    "print(model.doesnt_match(\"breakfast cereal dinner lunch\".split()))"
   ]
  },
  {
   "cell_type": "code",
   "execution_count": 22,
   "metadata": {
    "scrolled": true
   },
   "outputs": [
    {
     "name": "stdout",
     "output_type": "stream",
     "text": [
      "\n",
      "Similarity between woman and man\n",
      "0.76640123\n",
      "\n",
      "Similarity between girl and boy\n",
      "0.8543272\n"
     ]
    }
   ],
   "source": [
    "print('\\nSimilarity between woman and man')\n",
    "print(model.similarity('woman','man'))\n",
    "print('\\nSimilarity between girl and boy')\n",
    "print(model.similarity('girl','boy'))"
   ]
  },
  {
   "cell_type": "code",
   "execution_count": null,
   "metadata": {},
   "outputs": [],
   "source": []
  }
 ],
 "metadata": {
  "kernelspec": {
   "display_name": "Python 3",
   "language": "python",
   "name": "python3"
  },
  "language_info": {
   "codemirror_mode": {
    "name": "ipython",
    "version": 3
   },
   "file_extension": ".py",
   "mimetype": "text/x-python",
   "name": "python",
   "nbconvert_exporter": "python",
   "pygments_lexer": "ipython3",
   "version": "3.7.3"
  }
 },
 "nbformat": 4,
 "nbformat_minor": 2
}
