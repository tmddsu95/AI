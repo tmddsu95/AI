{
 "cells": [
  {
   "cell_type": "code",
   "execution_count": 1,
   "metadata": {},
   "outputs": [],
   "source": [
    "# -*- coding: utf-8 -*-"
   ]
  },
  {
   "cell_type": "code",
   "execution_count": 2,
   "metadata": {},
   "outputs": [],
   "source": [
    "import warnings"
   ]
  },
  {
   "cell_type": "code",
   "execution_count": 3,
   "metadata": {},
   "outputs": [],
   "source": [
    "warnings.filterwarnings(action='ignore',category=UserWarning, \\\n",
    "                       module='gensim')\n"
   ]
  },
  {
   "cell_type": "code",
   "execution_count": 4,
   "metadata": {},
   "outputs": [],
   "source": [
    "#국회 법안 말뭉치의 문서 가져오기\n",
    "from konlpy.corpus import kobill"
   ]
  },
  {
   "cell_type": "code",
   "execution_count": 5,
   "metadata": {},
   "outputs": [],
   "source": [
    "docs_ko = [kobill.open(i).read() for i in kobill.fileids()]"
   ]
  },
  {
   "cell_type": "code",
   "execution_count": 6,
   "metadata": {},
   "outputs": [],
   "source": [
    "#문서를 단어 / 품사 단위로 토큰화\n",
    "from konlpy.tag import Twitter;"
   ]
  },
  {
   "cell_type": "code",
   "execution_count": 7,
   "metadata": {},
   "outputs": [
    {
     "name": "stderr",
     "output_type": "stream",
     "text": [
      "C:\\Users\\USER\\Anaconda3\\lib\\site-packages\\konlpy\\tag\\_okt.py:16: UserWarning: \"Twitter\" has changed to \"Okt\" since KoNLPy v0.4.5.\n",
      "  warn('\"Twitter\" has changed to \"Okt\" since KoNLPy v0.4.5.')\n"
     ]
    }
   ],
   "source": [
    "t = Twitter()"
   ]
  },
  {
   "cell_type": "code",
   "execution_count": 8,
   "metadata": {},
   "outputs": [],
   "source": [
    "pos = lambda d: ['/'.join(p) for p in t.pos(d)]"
   ]
  },
  {
   "cell_type": "code",
   "execution_count": 10,
   "metadata": {},
   "outputs": [],
   "source": [
    "texts_ko = [pos(doc) for doc in docs_ko]"
   ]
  },
  {
   "cell_type": "code",
   "execution_count": 11,
   "metadata": {},
   "outputs": [],
   "source": [
    "from gensim.models import word2vec"
   ]
  },
  {
   "cell_type": "code",
   "execution_count": 12,
   "metadata": {},
   "outputs": [],
   "source": [
    "wv_model_ko = word2vec.Word2Vec(texts_ko)"
   ]
  },
  {
   "cell_type": "code",
   "execution_count": 13,
   "metadata": {},
   "outputs": [],
   "source": [
    "wv_model_ko.init_sims(replace=True)"
   ]
  },
  {
   "cell_type": "code",
   "execution_count": 14,
   "metadata": {},
   "outputs": [],
   "source": [
    "wv_model_ko.save('ko_word2vec.model')"
   ]
  },
  {
   "cell_type": "code",
   "execution_count": 15,
   "metadata": {},
   "outputs": [
    {
     "name": "stdout",
     "output_type": "stream",
     "text": [
      "[('을/Josa', 0.9992085695266724), ('공무원/Noun', 0.9992072582244873), (':/Punctuation', 0.9992011785507202), ('에서/Josa', 0.9991956353187561), ('를/Josa', 0.9991575479507446), ('재정/Noun', 0.9991413354873657), ('의/Josa', 0.9991292357444763), ('하고/Josa', 0.9991265535354614), ('내용/Noun', 0.9991253614425659), ('자/Noun', 0.999125063419342)]\n"
     ]
    },
    {
     "name": "stderr",
     "output_type": "stream",
     "text": [
      "C:\\Users\\USER\\Anaconda3\\lib\\site-packages\\ipykernel_launcher.py:2: DeprecationWarning: Call to deprecated `most_similar` (Method will be removed in 4.0.0, use self.wv.most_similar() instead).\n",
      "  \n"
     ]
    }
   ],
   "source": [
    "#'국가'와 유사한 단어 검색\n",
    "print(wv_model_ko.most_similar(pos('국가')))"
   ]
  },
  {
   "cell_type": "code",
   "execution_count": 16,
   "metadata": {
    "scrolled": true
   },
   "outputs": [
    {
     "name": "stdout",
     "output_type": "stream",
     "text": [
      "[('의/Noun', 0.999907374382019), (',/Punctuation', 0.9998894929885864), ('이/Josa', 0.9998878240585327), ('은/Josa', 0.9998835325241089), (':/Punctuation', 0.9998782873153687), ('·/Punctuation', 0.9998776912689209), ('\\n\\n/Foreign', 0.9998769760131836), ('하는/Verb', 0.999873161315918), ('을/Josa', 0.9998730421066284), ('에/Josa', 0.9998722672462463)]\n"
     ]
    },
    {
     "name": "stderr",
     "output_type": "stream",
     "text": [
      "C:\\Users\\USER\\Anaconda3\\lib\\site-packages\\ipykernel_launcher.py:1: DeprecationWarning: Call to deprecated `most_similar` (Method will be removed in 4.0.0, use self.wv.most_similar() instead).\n",
      "  \"\"\"Entry point for launching an IPython kernel.\n"
     ]
    }
   ],
   "source": [
    "print(wv_model_ko.most_similar(pos('가정')))"
   ]
  },
  {
   "cell_type": "code",
   "execution_count": 17,
   "metadata": {},
   "outputs": [
    {
     "name": "stdout",
     "output_type": "stream",
     "text": [
      "[('을/Josa', 0.9992085695266724), ('공무원/Noun', 0.9992072582244873), (':/Punctuation', 0.9992011785507202), ('에서/Josa', 0.9991956353187561), ('를/Josa', 0.9991575479507446), ('재정/Noun', 0.9991413354873657), ('의/Josa', 0.9991292357444763), ('하고/Josa', 0.9991265535354614), ('내용/Noun', 0.9991253614425659), ('자/Noun', 0.999125063419342)]\n"
     ]
    }
   ],
   "source": [
    "#'국가'와 유사한 단어 검색\n",
    "print(wv_model_ko.wv.most_similar(pos('국가')))"
   ]
  },
  {
   "cell_type": "code",
   "execution_count": 18,
   "metadata": {},
   "outputs": [
    {
     "name": "stdout",
     "output_type": "stream",
     "text": [
      "[('의/Noun', 0.999907374382019), (',/Punctuation', 0.9998894929885864), ('이/Josa', 0.9998878240585327), ('은/Josa', 0.9998835325241089), (':/Punctuation', 0.9998782873153687), ('·/Punctuation', 0.9998776912689209), ('\\n\\n/Foreign', 0.9998769760131836), ('하는/Verb', 0.999873161315918), ('을/Josa', 0.9998730421066284), ('에/Josa', 0.9998722672462463)]\n"
     ]
    }
   ],
   "source": [
    "#'가정'과 유사한 단어 검색\n",
    "print(wv_model_ko.wv.most_similar(pos('가정')))"
   ]
  },
  {
   "cell_type": "code",
   "execution_count": null,
   "metadata": {},
   "outputs": [],
   "source": []
  }
 ],
 "metadata": {
  "kernelspec": {
   "display_name": "Python 3",
   "language": "python",
   "name": "python3"
  },
  "language_info": {
   "codemirror_mode": {
    "name": "ipython",
    "version": 3
   },
   "file_extension": ".py",
   "mimetype": "text/x-python",
   "name": "python",
   "nbconvert_exporter": "python",
   "pygments_lexer": "ipython3",
   "version": "3.7.3"
  }
 },
 "nbformat": 4,
 "nbformat_minor": 2
}
